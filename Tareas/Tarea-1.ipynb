{
 "cells": [
  {
   "cell_type": "markdown",
   "metadata": {},
   "source": [
    "Fernando Morales Lopez\n",
    "1664211"
   ]
  },
  {
   "cell_type": "markdown",
   "metadata": {},
   "source": [
    "# Tarea 1\n",
    "Simular la sinapsis de 5 neuronas, donde la quinta neurona sea la salida, utilizando distintas funciones de activación."
   ]
  },
  {
   "cell_type": "code",
   "execution_count": 57,
   "metadata": {},
   "outputs": [],
   "source": [
    "import pandas as pd\n",
    "import numpy as np\n",
    "import math"
   ]
  },
  {
   "cell_type": "code",
   "execution_count": 58,
   "metadata": {},
   "outputs": [],
   "source": [
    "def relu(x):\n",
    "    return max(0, x)\n",
    "\n",
    "def sigmoide(x):\n",
    "    return 1 / (1 + math.exp(-x))"
   ]
  },
  {
   "cell_type": "code",
   "execution_count": 59,
   "metadata": {},
   "outputs": [],
   "source": [
    "def red(input): #Dentrotas\n",
    "    weights1 = [0.9, 0.52, .14] #Soma\n",
    "    bias1 = 1 #Soma    \n",
    "    z = sum(x*w for x, w in zip(input,weights1)) + bias1 #Soma\n",
    "    a1 = relu(z) #Axon\n",
    "    \n",
    "    weights2 = 0.16 #Soma\n",
    "    bias2 = 1.2 #Soma    \n",
    "    z = a1 * weights2 + bias2 #Soma\n",
    "    a2 = relu(z) #Axon\n",
    "\n",
    "    weights3 = 0.06 #Soma\n",
    "    bias3 = 1.4 #Soma    \n",
    "    z = a2 * weights3 + bias3 #Soma\n",
    "    a3 = sigmoide(z) #Axon\n",
    "\n",
    "    weights4 = 0.47 #Soma\n",
    "    bias4 = 1.6 #Soma    \n",
    "    z = a3 * weights4 + bias4 #Soma\n",
    "    a4 = relu(z) #Axon\n",
    "\n",
    "    weights5 = 0.75 #Soma\n",
    "    bias5 = 1.8 #Soma    \n",
    "    z = a4 * weights5 + bias5 #Soma\n",
    "    a5 = relu(z) #Axon\n",
    "\n",
    "    return a5 #Axon"
   ]
  },
  {
   "cell_type": "code",
   "execution_count": 60,
   "metadata": {},
   "outputs": [
    {
     "data": {
      "text/plain": [
       "3.2899937078705106"
      ]
     },
     "execution_count": 60,
     "metadata": {},
     "output_type": "execute_result"
    }
   ],
   "source": [
    "input = [2,5,8]\n",
    "red(input)"
   ]
  }
 ],
 "metadata": {
  "kernelspec": {
   "display_name": "Python 3",
   "language": "python",
   "name": "python3"
  },
  "language_info": {
   "codemirror_mode": {
    "name": "ipython",
    "version": 3
   },
   "file_extension": ".py",
   "mimetype": "text/x-python",
   "name": "python",
   "nbconvert_exporter": "python",
   "pygments_lexer": "ipython3",
   "version": "3.11.7"
  }
 },
 "nbformat": 4,
 "nbformat_minor": 2
}
