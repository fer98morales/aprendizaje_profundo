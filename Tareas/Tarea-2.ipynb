{
 "cells": [
  {
   "cell_type": "code",
   "execution_count": 827,
   "metadata": {},
   "outputs": [],
   "source": [
    "import pandas as pd\n",
    "import numpy as np\n",
    "import matplotlib.pyplot as plt"
   ]
  },
  {
   "cell_type": "code",
   "execution_count": 828,
   "metadata": {},
   "outputs": [],
   "source": [
    "#Definir función sigmoide\n",
    "def sigmoid(x):\n",
    " return 1/ (1+np.exp(-x))\n",
    "\n",
    "#Definir la derivada de la función sigmoide\n",
    "def sigmoidPrime(x):\n",
    "    return np.exp(-x)/((1+np.exp(-x))**2)"
   ]
  },
  {
   "cell_type": "code",
   "execution_count": 829,
   "metadata": {},
   "outputs": [],
   "source": [
    "\n",
    "def forward_propagation(X):\n",
    "    \n",
    "    # Definir los pesos y los sesgos para la capa de entrada a la capa oculta\n",
    "    #np.random.seed(10)\n",
    "    #WhX = np.random.rand(3,4)\n",
    "    \n",
    "    np.random.seed(20)\n",
    "    b1 = np.random.rand(1,4)\n",
    "\n",
    "    # Calcular la suma ponderada en la capa oculta\n",
    "    z1 = np.dot(X,WhX) + b1\n",
    "\n",
    "    # Aplicar la función de activación a la capa oculta\n",
    "    a1 = sigmoid(z1)\n",
    "\n",
    "    # Definir los pesos y sesgos para la capa oculta a la capa de salida\n",
    "    #np.random.seed(30)\n",
    "    #WhY = np.random.rand(4,1)\n",
    "    np.random.seed(40)\n",
    "    b2 = np.random.rand(1)\n",
    "\n",
    "    # Calcular la suma ponderada en la capa de salida\n",
    "    z2 = np.dot(a1,WhY) + b2\n",
    "\n",
    "    # Aplicar la función de activación a la capa de salida\n",
    "    y_hat = sigmoid(z2)\n",
    "\n",
    "    return y_hat\n",
    "\n"
   ]
  },
  {
   "cell_type": "code",
   "execution_count": 830,
   "metadata": {},
   "outputs": [],
   "source": [
    "#Definir la back propagation.\n",
    "def backword_prop(y,y_hat, z1, a1, z2,alpha):\n",
    "    global WhX, WhY\n",
    "    \n",
    "    # Calcular la derivada de la función de pérdida con respecto a la salida de la capa de salida\n",
    "    delta2 = np.multiply(-(y - y_hat), sigmoidPrime(z2))\n",
    "    \n",
    "    # Calcular el gradiente con respecto a los pesos y sesgos de la capa de salida\n",
    "    dJ_dWhY = np.dot(a1.T, delta2)\n",
    "    \n",
    "    # Calcular la retropropagación del error a la capa oculta\n",
    "    delta1 = np.dot(delta2, WhY.T) * sigmoidPrime(z1)\n",
    "    \n",
    "    # Calcular el gradiente con respecto a los pesos y sesgos de la capa oculta\n",
    "    dJ_dWhX = np.dot(X.T, delta1)\n",
    "    \n",
    "    # Actualizar los pesos de la capa oculta y de la capa de salida utilizando el descenso de gradiente\n",
    "    WhX = WhX - alpha * dJ_dWhX\n",
    "    WhY = WhY - alpha * dJ_dWhY\n",
    "    \n",
    "    return WhX, WhY"
   ]
  },
  {
   "cell_type": "code",
   "execution_count": 837,
   "metadata": {},
   "outputs": [
    {
     "name": "stdout",
     "output_type": "stream",
     "text": [
      "Pesos WhX 1:\n",
      " [[0.77132064 0.02075195 0.63364823 0.74880388]\n",
      " [0.49850701 0.22479665 0.19806286 0.76053071]\n",
      " [0.16911084 0.08833981 0.68535982 0.95339335]]\n",
      "Pesos WhY 1:\n",
      " [[0.82311034]\n",
      " [0.02611798]\n",
      " [0.21077064]\n",
      " [0.61842177]]\n",
      "y estimada 1:  [[0.82516326]]\n"
     ]
    }
   ],
   "source": [
    "y=1\n",
    "alpha = .015\n",
    "\n",
    "np.random.seed(10)\n",
    "WhX = np.random.rand(3,4)\n",
    "np.random.seed(52)\n",
    "WhY = np.random.rand(4,1)\n",
    "\n",
    "X = np.array([[.01, .03, .05]])\n",
    "y_hat = forward_propagation(X)\n",
    "print('Pesos WhX 1:\\n', WhX)\n",
    "print('Pesos WhY 1:\\n', WhY)\n",
    "print('y estimada 1: ', y_hat)\n",
    "WhX,WhY = backword_prop(y,y_hat, z1, a1, z2,alpha)"
   ]
  },
  {
   "cell_type": "code",
   "execution_count": 838,
   "metadata": {},
   "outputs": [
    {
     "name": "stdout",
     "output_type": "stream",
     "text": [
      "Pesos WhX 2:\n",
      " [[0.7713214  0.02075198 0.63364838 0.74880421]\n",
      " [0.4985093  0.22479673 0.19806329 0.76053168]\n",
      " [0.16911464 0.08833995 0.68536053 0.95339496]]\n",
      "Pesos WhY 2:\n",
      " [[0.82352289]\n",
      " [0.02651058]\n",
      " [0.21122349]\n",
      " [0.61889475]]\n",
      "y estimada 2:  [[0.82626947]]\n"
     ]
    }
   ],
   "source": [
    "X = np.array([[.02, .04, .06]])\n",
    "y_hat = forward_propagation(X)\n",
    "print('Pesos WhX 2:\\n',WhX)\n",
    "print('Pesos WhY 2:\\n', WhY)\n",
    "print('y estimada 2: ',y_hat)\n",
    "WhX,WhY = backword_prop(y,y_hat, z1, a1, z2,alpha)"
   ]
  },
  {
   "cell_type": "code",
   "execution_count": 839,
   "metadata": {},
   "outputs": [
    {
     "name": "stdout",
     "output_type": "stream",
     "text": [
      "Pesos WhX 3:\n",
      " [[0.77132292 0.02075203 0.63364866 0.74880485]\n",
      " [0.49851232 0.22479683 0.19806385 0.76053297]\n",
      " [0.16911918 0.08834011 0.68536137 0.95339689]]\n",
      "Pesos WhY 3:\n",
      " [[0.82393284]\n",
      " [0.0269007 ]\n",
      " [0.21167347]\n",
      " [0.61936474]]\n",
      "y estimada 3:  [[0.82917259]]\n"
     ]
    }
   ],
   "source": [
    "X = np.array([[.05, .07, .09]])\n",
    "y_hat =forward_propagation(X)\n",
    "print('Pesos WhX 3:\\n',WhX)\n",
    "print('Pesos WhY 3:\\n', WhY)\n",
    "print('y estimada 3: ',y_hat)\n",
    "WhX,WhY = backword_prop(y,y_hat, z1, a1, z2,alpha)"
   ]
  },
  {
   "cell_type": "code",
   "execution_count": 841,
   "metadata": {},
   "outputs": [
    {
     "name": "stdout",
     "output_type": "stream",
     "text": [
      "Pesos WhX 4:\n",
      " [[0.77132664 0.02075217 0.63364935 0.74880643]\n",
      " [0.49851753 0.22479702 0.19806483 0.76053518]\n",
      " [0.16912588 0.08834035 0.68536262 0.95339974]]\n",
      "Pesos WhY 4:\n",
      " [[0.82433593]\n",
      " [0.0272843 ]\n",
      " [0.21211593]\n",
      " [0.61982688]]\n",
      "y estimada 4:  [[0.82934285]]\n"
     ]
    }
   ],
   "source": [
    "X = np.array([[.05, .07, .09]])\n",
    "y_hat = forward_propagation(X)\n",
    "print('Pesos WhX 4:\\n',WhX)\n",
    "print('Pesos WhY 4:\\n', WhY)\n",
    "print('y estimada 4: ',y_hat)"
   ]
  }
 ],
 "metadata": {
  "kernelspec": {
   "display_name": "Python 3",
   "language": "python",
   "name": "python3"
  },
  "language_info": {
   "codemirror_mode": {
    "name": "ipython",
    "version": 3
   },
   "file_extension": ".py",
   "mimetype": "text/x-python",
   "name": "python",
   "nbconvert_exporter": "python",
   "pygments_lexer": "ipython3",
   "version": "3.11.7"
  }
 },
 "nbformat": 4,
 "nbformat_minor": 2
}
