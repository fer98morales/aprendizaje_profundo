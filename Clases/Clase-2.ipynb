{
 "cells": [
  {
   "cell_type": "markdown",
   "metadata": {},
   "source": [
    "# Propagacion hacia adelante"
   ]
  },
  {
   "cell_type": "code",
   "execution_count": 41,
   "metadata": {},
   "outputs": [],
   "source": [
    "import pandas as pd\n",
    "import numpy as np\n",
    "import math"
   ]
  },
  {
   "cell_type": "markdown",
   "metadata": {},
   "source": [
    "### Se define una red neuronal con las siguientes caracteristicas\n",
    "1. Una capa de entrada con dos inputs, x1 y x2.\n",
    "2. Una capa oculta con 4 neuronas h1, h2, h3 y h4.\n",
    "3. Una capa de salida con 1 neurona o1"
   ]
  },
  {
   "cell_type": "code",
   "execution_count": 42,
   "metadata": {},
   "outputs": [],
   "source": [
    "inputs = []\n"
   ]
  },
  {
   "cell_type": "code",
   "execution_count": 43,
   "metadata": {},
   "outputs": [
    {
     "name": "stdout",
     "output_type": "stream",
     "text": [
      "[[0.2  0.65 0.45 0.12]\n",
      " [0.8  0.35 0.55 0.15]]\n"
     ]
    }
   ],
   "source": [
    "# Inicializar los pesos de las 4 neuronas en la capa oculta\n",
    "Wxh = np.array([[.2, .65, .45, .12],\n",
    "                [.8, .35, .55, .15]])\n",
    "print(Wxh)"
   ]
  },
  {
   "cell_type": "code",
   "execution_count": 44,
   "metadata": {},
   "outputs": [
    {
     "name": "stdout",
     "output_type": "stream",
     "text": [
      "[[0.2 ]\n",
      " [0.35]\n",
      " [0.45]\n",
      " [0.52]]\n"
     ]
    }
   ],
   "source": [
    "# Inicializar los pesos de la neurona enla capa de salida\n",
    "Why = np.array([[.2], [.35], [.45], [.52]])\n",
    "print(Why)"
   ]
  },
  {
   "cell_type": "code",
   "execution_count": 45,
   "metadata": {},
   "outputs": [
    {
     "name": "stdout",
     "output_type": "stream",
     "text": [
      "[[0.2 ]\n",
      " [0.15]\n",
      " [0.45]\n",
      " [0.23]]\n"
     ]
    }
   ],
   "source": [
    "# Inicializar los sesgos en la capa oculta\n",
    "bh = np.array([[.2], [.15], [.45], [.23]])\n",
    "print(bh)"
   ]
  },
  {
   "cell_type": "code",
   "execution_count": 46,
   "metadata": {},
   "outputs": [],
   "source": [
    "by = .5"
   ]
  },
  {
   "cell_type": "code",
   "execution_count": 47,
   "metadata": {},
   "outputs": [],
   "source": [
    "# Definir la funcion Sigmoide\n",
    "def sigmoide(x):\n",
    "    return 1 / (1 + np.exp(-x))"
   ]
  },
  {
   "cell_type": "code",
   "execution_count": 48,
   "metadata": {},
   "outputs": [],
   "source": [
    "def forward_prop(x):\n",
    "    z1 = np.dot(x,Wxh) + bh # Capa oculta\n",
    "    a1 = sigmoide(z1) # Capa oculta\n",
    "\n",
    "    z2 = np.dot(a1,Why) + by # Capa de salida\n",
    "    y_estimado = sigmoide(z2)\n",
    "\n",
    "    return y_estimado"
   ]
  },
  {
   "cell_type": "code",
   "execution_count": 49,
   "metadata": {},
   "outputs": [
    {
     "data": {
      "text/plain": [
       "array([[0.88288003],\n",
       "       [0.88287998],\n",
       "       [0.88288024],\n",
       "       [0.88288006]])"
      ]
     },
     "execution_count": 49,
     "metadata": {},
     "output_type": "execute_result"
    }
   ],
   "source": [
    "x = np.array([1.75, 70])\n",
    "y = forward_prop(x)\n",
    "y"
   ]
  }
 ],
 "metadata": {
  "kernelspec": {
   "display_name": "Python 3",
   "language": "python",
   "name": "python3"
  },
  "language_info": {
   "codemirror_mode": {
    "name": "ipython",
    "version": 3
   },
   "file_extension": ".py",
   "mimetype": "text/x-python",
   "name": "python",
   "nbconvert_exporter": "python",
   "pygments_lexer": "ipython3",
   "version": "3.11.7"
  }
 },
 "nbformat": 4,
 "nbformat_minor": 2
}
