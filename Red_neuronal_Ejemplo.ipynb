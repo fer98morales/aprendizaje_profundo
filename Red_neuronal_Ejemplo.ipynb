{
 "cells": [
  {
   "cell_type": "code",
   "execution_count": 2,
   "metadata": {},
   "outputs": [
    {
     "name": "stderr",
     "output_type": "stream",
     "text": [
      "C:\\Users\\fer_m\\AppData\\Local\\Temp\\ipykernel_10880\\2151744951.py:1: DeprecationWarning: \n",
      "Pyarrow will become a required dependency of pandas in the next major release of pandas (pandas 3.0),\n",
      "(to allow more performant data types, such as the Arrow string type, and better interoperability with other libraries)\n",
      "but was not found to be installed on your system.\n",
      "If this would cause problems for you,\n",
      "please provide us feedback at https://github.com/pandas-dev/pandas/issues/54466\n",
      "        \n",
      "  import pandas as pd\n"
     ]
    }
   ],
   "source": [
    "import pandas as pd\n",
    "import numpy as np\n",
    "import matplotlib.pyplot as plt"
   ]
  },
  {
   "cell_type": "code",
   "execution_count": 3,
   "metadata": {},
   "outputs": [],
   "source": [
    "#Definir función sigmoide\n",
    "def sigmoid(x):\n",
    " return 1/ (1+np.exp(-x))\n",
    "\n",
    "#Definir la derivada de la función sigmoide\n",
    "def sigmoidPrime(x):\n",
    "    return np.exp(-x)/((1+np.exp(-x))**2)"
   ]
  },
  {
   "cell_type": "code",
   "execution_count": 4,
   "metadata": {},
   "outputs": [],
   "source": [
    "\n",
    "def forward_propagation(X):\n",
    "\n",
    "    # Definir los pesos y los sesgos para la capa de entrada a la capa oculta\n",
    "    WhX = np.array([\n",
    "        [0.4, 0.2, 0.3, 0.4],\n",
    "        [0.1, 0.6, 0.5, 0.7],\n",
    "        [0.1, 0.6, 0.5, 0.7]\n",
    "    ])\n",
    "\n",
    "    b1 = np.array([0.1, 0.2, 0.5, 0.3])\n",
    "\n",
    "    # Calcular la suma ponderada en la capa oculta\n",
    "    z1 = np.dot(X,WhX) + b1\n",
    "\n",
    "    # Aplicar la función de activación a la capa oculta\n",
    "    a1 = sigmoid(z1)\n",
    "\n",
    "    # Definir los pesos y sesgos para la capa oculta a la capa de salida\n",
    "    WhY = np.array([\n",
    "        [0.4], [0.2], [0.3], [0.4]\n",
    "    ])\n",
    "\n",
    "    b2 = np.array([0.1])\n",
    "\n",
    "    # Calcular la suma ponderada en la capa de salida\n",
    "    z2 = np.dot(a1,WhY) + b2\n",
    "\n",
    "    # Aplicar la función de activación a la capa de salida\n",
    "    y_hat = sigmoid(z2)\n",
    "\n",
    "    return y_hat"
   ]
  },
  {
   "cell_type": "code",
   "execution_count": 5,
   "metadata": {},
   "outputs": [
    {
     "data": {
      "text/plain": [
       "array([0.73437381])"
      ]
     },
     "execution_count": 5,
     "metadata": {},
     "output_type": "execute_result"
    }
   ],
   "source": [
    "X = np.array([0.5, 0.3, 0.7])\n",
    "forward_propagation(X)"
   ]
  }
 ],
 "metadata": {
  "kernelspec": {
   "display_name": "Python 3",
   "language": "python",
   "name": "python3"
  },
  "language_info": {
   "codemirror_mode": {
    "name": "ipython",
    "version": 3
   },
   "file_extension": ".py",
   "mimetype": "text/x-python",
   "name": "python",
   "nbconvert_exporter": "python",
   "pygments_lexer": "ipython3",
   "version": "3.11.7"
  }
 },
 "nbformat": 4,
 "nbformat_minor": 2
}
